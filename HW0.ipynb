{
 "cells": [
  {
   "cell_type": "markdown",
   "metadata": {},
   "source": [
    "# Домашние задания по курсу \"Python for DH\"\n",
    "Привет! Меня зовут Сотникова Дарья, и я студентка третьего курса образовательной программы [философия](https://www.hse.ru/ba/phil/). Я занимаюсь исследованиями в сфере логики и психологии. Сфера моих научных интересов - аналитическая философия.  ![](https://dic.academic.ru/pictures/wiki/files/108/ludwig_wittgenstein.jpg) \n",
    "\n",
    "**№**|**Описание**|**Ссылка на работу**\n",
    "  ---|:---:|---:\n",
    "**1**|-|*Код*\n",
    "**2**|-|*Код*\n",
    "**3**|-|*Код*\n",
    "\n"
   ]
  },
  {
   "cell_type": "code",
   "execution_count": null,
   "metadata": {},
   "outputs": [],
   "source": []
  }
 ],
 "metadata": {
  "kernelspec": {
   "display_name": "Python 3",
   "language": "python",
   "name": "python3"
  },
  "language_info": {
   "codemirror_mode": {
    "name": "ipython",
    "version": 3
   },
   "file_extension": ".py",
   "mimetype": "text/x-python",
   "name": "python",
   "nbconvert_exporter": "python",
   "pygments_lexer": "ipython3",
   "version": "3.7.0"
  }
 },
 "nbformat": 4,
 "nbformat_minor": 2
}
